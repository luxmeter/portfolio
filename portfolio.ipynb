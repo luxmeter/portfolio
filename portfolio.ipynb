{
 "cells": [
  {
   "cell_type": "code",
   "execution_count": null,
   "metadata": {},
   "outputs": [],
   "source": [
    "%load_ext autoreload\n",
    "%autoreload 2"
   ]
  },
  {
   "cell_type": "markdown",
   "metadata": {},
   "source": [
    "## Load Portfolio including stock symbols and desired networth distribution"
   ]
  },
  {
   "cell_type": "code",
   "execution_count": null,
   "metadata": {},
   "outputs": [],
   "source": [
    "import gspread\n",
    "from oauth2client.service_account import ServiceAccountCredentials\n",
    "import pandas as pd\n",
    "\n",
    "pd.set_option('display.max_rows', 1000)\n",
    "\n",
    "scope = ['https://spreadsheets.google.com/feeds',\n",
    "         'https://www.googleapis.com/auth/drive']\n",
    "\n",
    "# https://developers.google.com/sheets/api/guides/authorizing\n",
    "credentials = ServiceAccountCredentials.from_json_keyfile_name(\n",
    "         'google-sheets-credentials.json', scope)\n",
    "\n",
    "gc = gspread.authorize(credentials)\n",
    "\n",
    "wks = gc.open(\"Portfolio\").sheet1\n",
    "\n",
    "data = wks.get_all_values()\n",
    "headers = data.pop(0)\n",
    "\n",
    "df = pd.DataFrame(data, columns=headers)\n",
    "df[[\"Shares\", \"Purchase Price (EUR)\", \"Desired Distribution\"]] = df[[\"Shares\", \"Purchase Price (EUR)\", \"Desired Distribution\"]].apply(pd.to_numeric)\n",
    "df = df.drop(['Ticker', 'Accumulating'], axis=1)\n",
    "display(df)"
   ]
  },
  {
   "cell_type": "markdown",
   "metadata": {},
   "source": [
    "## Get stock prices in EUR\n",
    "EUR is my national currency."
   ]
  },
  {
   "cell_type": "code",
   "execution_count": null,
   "metadata": {},
   "outputs": [],
   "source": [
    "from portfolio import stock_price_eur\n",
    "        \n",
    "stock_price = pd.Series([stock_price_eur(r) for r in df['Symbol']], name='Stock Price')\n",
    "df = pd.concat([df, stock_price], axis=1)\n",
    "display(df)"
   ]
  },
  {
   "cell_type": "markdown",
   "metadata": {},
   "source": [
    "## Calculate current distribution\n",
    "The current distribution is based on the current price of the stocks."
   ]
  },
  {
   "cell_type": "code",
   "execution_count": null,
   "metadata": {},
   "outputs": [],
   "source": [
    "from portfolio import current_distribution\n",
    "\n",
    "df = pd.concat([df, current_distribution(df)], axis=1)\n",
    "display(df)"
   ]
  },
  {
   "cell_type": "markdown",
   "metadata": {},
   "source": [
    "## Calculate investment plan\n",
    "It is possible to exclude stocks from the plan manually.\n",
    "They are excluded automatically when their price is higher than the calculated investment.\n",
    "Each stock has a weight in the distribution. The weight of excluded stocks are spread over the remaining ones leading to a new distribution and investment plan."
   ]
  },
  {
   "cell_type": "code",
   "execution_count": null,
   "metadata": {},
   "outputs": [],
   "source": [
    "from portfolio import calc_shares_to_purchase\n",
    "    \n",
    "res = calc_shares_to_purchase(df, 4000, order_cost=7, exclusions=['X501.DE'])\n",
    "networth = (res['Stock Price'] * res['Shares'] + res['To Invest']).sum()\n",
    "res['Expected Distribution'] = (res['Stock Price'] * res['Shares'] + res['To Invest']) / networth\n",
    "sum_row = res.filter(['Purchase Price ', 'Desired Distribution', 'Current Distribution', 'New Relative Distribution', 'To Invest', 'Expected Distribution']).sum().rename('Total')\n",
    "res = res.append(sum_row)\n",
    "res = res.sort_values(by=['Sort Order'])\n",
    "display(res.filter(['ISIN', 'Category', 'Stock Price', 'To Invest', 'Shares To Purchase', 'Expected Distribution']))"
   ]
  }
 ],
 "metadata": {
  "kernelspec": {
   "display_name": "portfolio",
   "language": "python",
   "name": "portfolio"
  },
  "language_info": {
   "codemirror_mode": {
    "name": "ipython",
    "version": 3
   },
   "file_extension": ".py",
   "mimetype": "text/x-python",
   "name": "python",
   "nbconvert_exporter": "python",
   "pygments_lexer": "ipython3",
   "version": "3.7.3"
  }
 },
 "nbformat": 4,
 "nbformat_minor": 2
}
